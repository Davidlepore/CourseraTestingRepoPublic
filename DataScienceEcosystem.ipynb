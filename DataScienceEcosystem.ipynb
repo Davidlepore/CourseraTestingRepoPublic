{
 "cells": [
  {
   "cell_type": "markdown",
   "id": "e528acb1-dd22-47d0-9336-89e2d71b6d5f",
   "metadata": {},
   "source": [
    "# Data Science Tools and Ecosystem"
   ]
  },
  {
   "cell_type": "markdown",
   "id": "fb523562-8966-4807-873d-ab8588d97cef",
   "metadata": {},
   "source": [
    "In this notebook, Data Science Tools and Ecosystem are summarized."
   ]
  },
  {
   "cell_type": "markdown",
   "id": "ababd118-af8c-48bf-97ed-e82f592c3680",
   "metadata": {},
   "source": [
    "**Objectives:**\n",
    "- List popular languages for Data Science\n",
    "- List common Python libraries used for Data Science\n",
    "- List popular development environment open-source tools used in Data Science\n",
    "- Become familiar with evaluating basic arithmetic expressions in Python"
   ]
  },
  {
   "cell_type": "markdown",
   "id": "82983d67-81c6-418f-9fdb-46fdc70a075a",
   "metadata": {},
   "source": [
    "Some of the popular languages that Data Scientists use are:\n",
    "1. Python\n",
    "2. R\n",
    "3. SQL\n",
    "4. Scala\n",
    "5. Java\n",
    "6. C++\n",
    "7. Julia"
   ]
  },
  {
   "cell_type": "markdown",
   "id": "07529465-037a-45e9-8f03-0846eb6c82a7",
   "metadata": {},
   "source": [
    "Some of the commonly used Python libraries used by Data Scientists include:\n",
    "1.  Pandas\n",
    "2.  NumPy\n",
    "3.  Matplotlib\n",
    "4.  Scikit-learn\n",
    "5.  TensorFlow\n",
    "6.  PyTorch\n"
   ]
  },
  {
   "cell_type": "markdown",
   "id": "bd5a7a53-b976-4850-95a6-cb7a3ff61d5e",
   "metadata": {},
   "source": [
    "|Data Science Tools|\n",
    "|--|\n",
    "|Jupyter (Lab or Notebook)|\n",
    "|RStudio|\n",
    "|Spyder|"
   ]
  },
  {
   "cell_type": "markdown",
   "id": "d88bba96-085c-49a3-bd5f-1d647331f6b5",
   "metadata": {},
   "source": [
    "### Below are few examples of evaluating arithmetic expressions in Python"
   ]
  },
  {
   "cell_type": "code",
   "execution_count": 2,
   "id": "d98847bd-4b71-4db7-9155-230c79aa9e52",
   "metadata": {},
   "outputs": [
    {
     "data": {
      "text/plain": [
       "17"
      ]
     },
     "execution_count": 2,
     "metadata": {},
     "output_type": "execute_result"
    }
   ],
   "source": [
    "# This is a simple arithmetic expression to multiply then add integers\n",
    "\n",
    "(3*4)+5"
   ]
  },
  {
   "cell_type": "code",
   "execution_count": 4,
   "id": "e32bd2ce-3997-4e70-b22a-60f4307efc40",
   "metadata": {},
   "outputs": [
    {
     "data": {
      "text/plain": [
       "3.3333333333333335"
      ]
     },
     "execution_count": 4,
     "metadata": {},
     "output_type": "execute_result"
    }
   ],
   "source": [
    "# This will convert 200 minutes to hours by dividing by 60\n",
    "\n",
    "200/60"
   ]
  },
  {
   "cell_type": "markdown",
   "id": "071de9f4-aba4-4b81-a680-d8f6cd27f285",
   "metadata": {},
   "source": [
    "## Author\n",
    "David Lepore"
   ]
  }
 ],
 "metadata": {
  "kernelspec": {
   "display_name": "Python 3 (ipykernel)",
   "language": "python",
   "name": "python3"
  },
  "language_info": {
   "codemirror_mode": {
    "name": "ipython",
    "version": 3
   },
   "file_extension": ".py",
   "mimetype": "text/x-python",
   "name": "python",
   "nbconvert_exporter": "python",
   "pygments_lexer": "ipython3",
   "version": "3.12.8"
  }
 },
 "nbformat": 4,
 "nbformat_minor": 5
}
